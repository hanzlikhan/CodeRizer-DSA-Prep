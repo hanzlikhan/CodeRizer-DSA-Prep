{
 "cells": [
  {
   "cell_type": "markdown",
   "id": "d5d2f81f",
   "metadata": {},
   "source": [
    "# **Array**"
   ]
  },
  {
   "cell_type": "markdown",
   "id": "85fb05c6",
   "metadata": {},
   "source": [
    "An array is a data structure used to store a collection of elements (usually of the same data type) in a contiguous block of memory."
   ]
  },
  {
   "cell_type": "markdown",
   "id": "b69f8721",
   "metadata": {},
   "source": [
    "## **Key Features:**"
   ]
  },
  {
   "cell_type": "markdown",
   "id": "08c0ff38",
   "metadata": {},
   "source": [
    "- Fixed size: Once created, the size is usually fixed.\n",
    "- Same data type: All elements are typically of the same type (like integers, strings, etc.).\n",
    "- Indexed: Elements are accessed using an index (starting from 0 in most languages)."
   ]
  },
  {
   "cell_type": "markdown",
   "id": "2bb29ed4",
   "metadata": {},
   "source": [
    "## **Types in Python**"
   ]
  },
  {
   "cell_type": "markdown",
   "id": "3f296804",
   "metadata": {},
   "source": [
    "- List\n",
    "- Array\n",
    "- Numpy Array"
   ]
  },
  {
   "cell_type": "markdown",
   "id": "28ac94cb",
   "metadata": {},
   "source": [
    "## **List**"
   ]
  },
  {
   "cell_type": "markdown",
   "id": "a8d8ff38",
   "metadata": {},
   "source": [
    "A list is a built-in data structure in Python used to store an ordered collection of items, which can be of any data type (unlike arrays which are usually of the same type)."
   ]
  },
  {
   "cell_type": "markdown",
   "id": "d883a06b",
   "metadata": {},
   "source": [
    "## **Common Python List Methods**"
   ]
  },
  {
   "cell_type": "markdown",
   "id": "476b9f9d",
   "metadata": {},
   "source": [
    "- append(item) – Add an item to the end\n",
    "- insert(index, item) – Insert item at a specific index\n",
    "- pop([index]) – Remove and return item at index (last if no index)\n",
    "- remove(item) – Remove first occurrence of item\n",
    "- clear() – Remove all items from the list\n",
    "- index(item) – Return index of first occurrence of item\n",
    "- count(item) – Count how many times an item appears\n",
    "- sort() – Sort the list in ascending order\n",
    "- reverse() – Reverse the list in place\n",
    "- copy() – Return a shallow copy of the list\n",
    "\n"
   ]
  },
  {
   "cell_type": "code",
   "execution_count": 13,
   "id": "65d19d0f",
   "metadata": {},
   "outputs": [],
   "source": [
    "arr = [1,2,3,4] \n",
    "arr2 = [0] * (6)"
   ]
  },
  {
   "cell_type": "code",
   "execution_count": 14,
   "id": "581a803a",
   "metadata": {},
   "outputs": [
    {
     "name": "stdout",
     "output_type": "stream",
     "text": [
      "[1, 2, 3, 4]\n"
     ]
    }
   ],
   "source": [
    "print(arr)\n"
   ]
  },
  {
   "cell_type": "code",
   "execution_count": 15,
   "id": "3ed48d80",
   "metadata": {},
   "outputs": [
    {
     "name": "stdout",
     "output_type": "stream",
     "text": [
      "[0, 0, 0, 0, 0, 0]\n"
     ]
    }
   ],
   "source": [
    "print(arr2)"
   ]
  },
  {
   "cell_type": "code",
   "execution_count": 17,
   "id": "41748b6d",
   "metadata": {},
   "outputs": [
    {
     "name": "stdout",
     "output_type": "stream",
     "text": [
      "index 0 value 1\n",
      "index 1 value 2\n",
      "index 2 value 3\n",
      "index 3 value 4\n"
     ]
    }
   ],
   "source": [
    "for i in range(len(arr)):\n",
    "    print(f\"index {i} value {arr[i]}\")"
   ]
  },
  {
   "cell_type": "code",
   "execution_count": 18,
   "id": "c1d4e5aa",
   "metadata": {},
   "outputs": [
    {
     "name": "stdout",
     "output_type": "stream",
     "text": [
      "[1, 2, 3, 4]\n"
     ]
    }
   ],
   "source": [
    "arr = [1,2,3,4] \n",
    "print(arr)"
   ]
  },
  {
   "cell_type": "code",
   "execution_count": 19,
   "id": "9ae087c9",
   "metadata": {},
   "outputs": [
    {
     "name": "stdout",
     "output_type": "stream",
     "text": [
      "[1, 2, 3, 4, 5]\n"
     ]
    }
   ],
   "source": [
    "arr.append(5)\n",
    "print(arr)"
   ]
  },
  {
   "cell_type": "code",
   "execution_count": 20,
   "id": "c8ff4852",
   "metadata": {},
   "outputs": [
    {
     "name": "stdout",
     "output_type": "stream",
     "text": [
      "[1, 2, 6, 3, 4, 5]\n"
     ]
    }
   ],
   "source": [
    "arr.insert(2,6)\n",
    "print(arr)"
   ]
  },
  {
   "cell_type": "code",
   "execution_count": 21,
   "id": "783a2a6f",
   "metadata": {},
   "outputs": [
    {
     "name": "stdout",
     "output_type": "stream",
     "text": [
      "[1, 2, 6, 3, 4]\n"
     ]
    }
   ],
   "source": [
    "arr.pop()\n",
    "print(arr)"
   ]
  },
  {
   "cell_type": "code",
   "execution_count": 22,
   "id": "b6a96b9a",
   "metadata": {},
   "outputs": [
    {
     "name": "stdout",
     "output_type": "stream",
     "text": [
      "[1, 2, 6, 3]\n",
      "4\n"
     ]
    }
   ],
   "source": [
    "poped_element = arr.pop()\n",
    "print(arr)\n",
    "print(poped_element)"
   ]
  },
  {
   "cell_type": "code",
   "execution_count": 23,
   "id": "3bd3ced6",
   "metadata": {},
   "outputs": [
    {
     "name": "stdout",
     "output_type": "stream",
     "text": [
      "[2, 6, 3]\n"
     ]
    }
   ],
   "source": [
    "arr.pop(0)\n",
    "print(arr)"
   ]
  },
  {
   "cell_type": "code",
   "execution_count": 26,
   "id": "38996e6a",
   "metadata": {},
   "outputs": [
    {
     "name": "stdout",
     "output_type": "stream",
     "text": [
      "[2, 3]\n"
     ]
    }
   ],
   "source": [
    "\n",
    "print(arr)"
   ]
  },
  {
   "cell_type": "code",
   "execution_count": 27,
   "id": "431ec2e0",
   "metadata": {},
   "outputs": [
    {
     "name": "stdout",
     "output_type": "stream",
     "text": [
      "[3]\n"
     ]
    }
   ],
   "source": [
    "arr.remove(2)\n",
    "print(arr)"
   ]
  },
  {
   "cell_type": "code",
   "execution_count": 28,
   "id": "876769e2",
   "metadata": {},
   "outputs": [
    {
     "name": "stdout",
     "output_type": "stream",
     "text": [
      "[]\n"
     ]
    }
   ],
   "source": [
    "arr.clear()\n",
    "print(arr)"
   ]
  },
  {
   "cell_type": "code",
   "execution_count": null,
   "id": "f326334a",
   "metadata": {},
   "outputs": [],
   "source": []
  },
  {
   "cell_type": "code",
   "execution_count": 31,
   "id": "bb1a5f62",
   "metadata": {},
   "outputs": [],
   "source": [
    "lst = [1,2,3,4,5,1,4,5]"
   ]
  },
  {
   "cell_type": "code",
   "execution_count": 43,
   "id": "993ff700",
   "metadata": {},
   "outputs": [
    {
     "ename": "AttributeError",
     "evalue": "'NoneType' object has no attribute 'sort'",
     "output_type": "error",
     "traceback": [
      "\u001b[31m---------------------------------------------------------------------------\u001b[39m",
      "\u001b[31mAttributeError\u001b[39m                            Traceback (most recent call last)",
      "\u001b[36mCell\u001b[39m\u001b[36m \u001b[39m\u001b[32mIn[43]\u001b[39m\u001b[32m, line 1\u001b[39m\n\u001b[32m----> \u001b[39m\u001b[32m1\u001b[39m \u001b[43mlst\u001b[49m\u001b[43m.\u001b[49m\u001b[43msort\u001b[49m()\n\u001b[32m      2\u001b[39m \u001b[38;5;28mprint\u001b[39m(lst)\n",
      "\u001b[31mAttributeError\u001b[39m: 'NoneType' object has no attribute 'sort'"
     ]
    }
   ],
   "source": [
    "lst.sort()\n",
    "print(lst)"
   ]
  },
  {
   "cell_type": "code",
   "execution_count": null,
   "id": "1d347fee",
   "metadata": {},
   "outputs": [],
   "source": []
  },
  {
   "cell_type": "code",
   "execution_count": null,
   "id": "2b682716",
   "metadata": {},
   "outputs": [],
   "source": []
  }
 ],
 "metadata": {
  "kernelspec": {
   "display_name": "Python 3",
   "language": "python",
   "name": "python3"
  },
  "language_info": {
   "codemirror_mode": {
    "name": "ipython",
    "version": 3
   },
   "file_extension": ".py",
   "mimetype": "text/x-python",
   "name": "python",
   "nbconvert_exporter": "python",
   "pygments_lexer": "ipython3",
   "version": "3.13.3"
  }
 },
 "nbformat": 4,
 "nbformat_minor": 5
}
